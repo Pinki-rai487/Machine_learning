{
  "nbformat": 4,
  "nbformat_minor": 0,
  "metadata": {
    "colab": {
      "provenance": []
    },
    "kernelspec": {
      "name": "python3",
      "display_name": "Python 3"
    },
    "language_info": {
      "name": "python"
    }
  },
  "cells": [
    {
      "cell_type": "markdown",
      "source": [
        "# **Machine Learning Intro**"
      ],
      "metadata": {
        "id": "RDlbBTFo34wI"
      }
    },
    {
      "cell_type": "markdown",
      "source": [
        "Question 1: Explain the differences between AI, ML, Deep Learning (DL), and Data\n",
        "Science (DS).\n",
        "\n",
        "Ans> Artificial Intelligence:\n",
        "* Making machines that mimic /act \"smart\" or human like improving thinking,reasoning, problem-solving, intelligence.\n",
        "\n",
        "Machine learning:\n",
        "\n",
        "* subset of Artificial intelligence where machine learn from patterns/methods of data, without explicitly programmed codes.\n",
        "* ML improves programming through past experiences and examples providing through data.\n",
        "\n",
        "Deep Learning:\n",
        "\n",
        "* It copy the human brain, through different algoriths/patterns made up in Machine learning.\n",
        "\n",
        "Data science:\n",
        "\n",
        "* the field of analyzing, processing, and interpreting data to extract insights and guide decisions in domain knowledge.\n",
        "* understandi-ng the data."
      ],
      "metadata": {
        "id": "da5B21y_3-gf"
      }
    },
    {
      "cell_type": "markdown",
      "source": [
        "Question 2: What are the types of machine learning? Describe each with one\n",
        "real-world example ?\n",
        "\n",
        "Ans>\n",
        "1. Supe-rvised Learning : It is defined as when a model gets trained on a \"Labelled Dataset\". Labelled datasets have both input and output parameters. In Supervised Learning algorithms learn to map points between inputs and correct outputs. It has both training and validation datasets labelled.\n",
        "\n",
        "Example: Email spam detection (email text -> spam or not).\n",
        "\n",
        "2. Unsupervised Learning: Unsupervised learning is a type of machine learning technique in which an algorithm discovers patterns and relationships using unlabeled data.The primary goal of Unsupervised learning is often to discover hidden patterns, similarities, or clusters within the data, which can then be used for various purposes, such as data exploration, visualization, dimensionality reduction, and more.\n",
        "\n",
        "Example: customer segmention for a retail store:( inputs: age, spending score, shopping frequency) but output is unknown.\n",
        "based on some algoriths data will be interpreted and explore some outputs.\n",
        "\n",
        "3. semi-supervised learning: It is a machine learning algorithm that works between the supervised and unsupervised learning so it uses both labelled and unlabelled data. It's particularly useful when obtaining labeled data is costly, time-consuming, or resource-intensive. This approach is useful when the dataset is expensive and time-consuming. Semi-supervised learning is chosen when labeled data requires skills and relevant resources in order to train or learn from it.\n",
        "\n",
        "Example:  Consider that we are building a language translation model, having labeled translations for every sentence pair can be resources intensive. It allows the models to learn from labeled and unlabeled sentence pairs, making them more accurate. This technique has led to significant improvements in the quality of machine translation services.\n",
        "\n",
        "4. Reinforcement Learning: algorithm is a learning method that interacts with the environment by producing actions and discovering errors. Trial, error, and delay are the most relevant characteristics of reinforcement learning. In this technique, the model keeps on increasing its performance using Reward Feedback to learn the behavior or pattern.\n",
        "\n",
        "Example: google self car driving, google map direction, robotics, Game playing"
      ],
      "metadata": {
        "id": "lRTwwNv650iU"
      }
    },
    {
      "cell_type": "markdown",
      "source": [
        "Question 3: Define overfitting, underfitting, and the bias-variance tradeoff in machine learning?\n",
        "\n",
        "Ans>  overfitting:\n",
        "\n",
        "* Overfitting happens when an ML model memorizes training data instead of learning patterns. As a result, it performs well on training data but fails on new, unseen data.\n",
        "\n",
        "underfitting:\n",
        " * Underfitting happens when a model is too simple and fails to capture meaningful patterns in the data.\n",
        "\n",
        " the bias-variance trade off:\n",
        " * Bias refers to a model’s assumptions about the data.\n",
        "\n",
        "🔹 High Bias (Underfitting) → The model is too simple and cannot capture relationships.\n",
        "🔹 Low Bias (Good Model) → The model learns enough patterns without memorizing the data.\n",
        "\n",
        "Variance:\n",
        "Variance refers to how much the model changes when trained on different datasets.\n",
        "\n",
        "🔹 High Variance (Overfitting) → The model is too complex and learns noise.\n",
        "🔹 Low Variance (Good Model) → The model is stable across different datasets.\n",
        "\n",
        "The goal is to find the right balance—a model that captures patterns without memorizing noise."
      ],
      "metadata": {
        "id": "G4JgUoO18PZB"
      }
    },
    {
      "cell_type": "markdown",
      "source": [
        "Question 4: What are outliers in a dataset, and list three common techniques for handling them.\n",
        "\n",
        "Ans> An outlier is a data point that significantly deviates from the rest of the data. It can be either much higher or much lower than the other data points, and its presence can have a significant impact on the results of machine learning algorithms.\n",
        "\n",
        "The three common techniques to handle them are:\n",
        "1. Statistical method: IQR: Removal:\n",
        "This involves identifying and removing outliers from the dataset before training the model. Common methods include:\n",
        "Thresholding: Outliers are identified as data points exceeding a certain threshold (e.g., Z-score > 3).\n",
        "Distance-based methods: Outliers are identified based on their distance from their nearest neighbors.\n",
        "Clustering: Outliers are identified as points not belonging to any cluster or belonging to very small clusters.\n",
        "\n",
        "2. Transformaation: This involves transforming the data to reduce the influence of outliers. Common methods include:\n",
        "Scaling: Standardizing or normalizing the data to have a mean of zero and a standard deviation of one.\n",
        "Winsorization: Replacing outlier values with the nearest non-outlier value.\n",
        "Log transformation: Applying a logarithmic transformation to compress the data and reduce the impact of extreme values.\n",
        "\n",
        "3. Imputation: If the outliers are suspected to be a result of measurement errors or missing data, imputation methods can be used to estimate the missing values based on the surrounding observations. Imputation can help preserve the overall structure of the dataset while reducing the impact of outliers."
      ],
      "metadata": {
        "id": "_AtDSh-l_6yr"
      }
    },
    {
      "cell_type": "markdown",
      "source": [
        "Question 5: Explain the process of handling missing values and mention one\n",
        "imputation technique for numerical and one for categorical data.\n",
        "\n",
        "Ans> The process handling missing values are as follows:-\n",
        "1. detecting missing values type.\n",
        "2. decide on a strategy of applying different methods to resolve it.\n",
        "3. evaluate the impact.\n",
        "4. apply consistently for training set and test datasets to avoid data leakage.\n",
        "\n",
        "Imputation techniqque for numerical data: replacing values with the mean or median of the column.\n",
        "\n",
        "Imputation technique for categorical data: mode imputation is used means replacing the missing vaues with the most occuring category."
      ],
      "metadata": {
        "id": "eJ6fDfsuA8R8"
      }
    },
    {
      "cell_type": "code",
      "source": [
        "# Question 6: Write a Python program that:\n",
        "#● Creates a synthetic imbalanced dataset with make_classification() from #sklearn.datasets.\n",
        "# ● Prints the class distribution.\n",
        "import pandas as pd\n",
        "from sklearn.datasets import make_classification\n",
        "\n",
        "# Create a synthetic imbalanced dataset\n",
        "X, y = make_classification(n_samples=1000, n_features=20, n_informative=2,\n",
        "                           n_redundant=10, n_clusters_per_class=1, weights=[0.9, 0.1],\n",
        "                           flip_y=0, class_sep=0.8, random_state=42)\n",
        "\n",
        "# Convert to pandas DataFrame for easier inspection\n",
        "df = pd.DataFrame(X)\n",
        "df['target'] = y\n",
        "\n",
        "# Print the class distribution\n",
        "print(\"Class distribution:\")\n",
        "print(df['target'].value_counts())"
      ],
      "metadata": {
        "colab": {
          "base_uri": "https://localhost:8080/"
        },
        "id": "dFwsBU4wDM8K",
        "outputId": "f4c4035a-5f2c-466b-f82e-cb6ef29def7e"
      },
      "execution_count": 1,
      "outputs": [
        {
          "output_type": "stream",
          "name": "stdout",
          "text": [
            "Class distribution:\n",
            "target\n",
            "0    900\n",
            "1    100\n",
            "Name: count, dtype: int64\n"
          ]
        }
      ]
    },
    {
      "cell_type": "code",
      "source": [
        "# Question 7: Implement one-hot encoding using pandas for the following list of colors:\n",
        "#  Print the resulting dataframe.\n",
        "import pandas as pd\n",
        "\n",
        "colors = ['Red', 'Green', 'Blue', 'Green', 'Red']\n",
        "\n",
        "# Create a DataFrame with colors as index\n",
        "colors_df = pd.DataFrame({'color': colors})\n",
        "\n",
        "# Implement one-hot encoding with colors as index\n",
        "one_hot_encoded_colors = pd.get_dummies(colors_df, columns=['color'])\n",
        "\n",
        "# Print the resulting dataframe\n",
        "print(\"One-hot encoded colors:\")\n",
        "print(one_hot_encoded_colors)"
      ],
      "metadata": {
        "colab": {
          "base_uri": "https://localhost:8080/"
        },
        "id": "tINGQCk4EMfL",
        "outputId": "ad632726-78ec-4b17-a6d9-a5d5c8f39c30"
      },
      "execution_count": 5,
      "outputs": [
        {
          "output_type": "stream",
          "name": "stdout",
          "text": [
            "One-hot encoded colors:\n",
            "   color_Blue  color_Green  color_Red\n",
            "0       False        False       True\n",
            "1       False         True      False\n",
            "2        True        False      False\n",
            "3       False         True      False\n",
            "4       False        False       True\n"
          ]
        }
      ]
    },
    {
      "cell_type": "code",
      "source": [
        "# Question 8: Write a Python script to:\n",
        "# ● Generate 1000 samples from a normal distribution.\n",
        "# ● Introduce 50 random missing values.\n",
        "# ● Fill missing values with the column mean.\n",
        "# ● Plot a histogram before and after imputation.\n",
        "import numpy as np\n",
        "import pandas as pd\n",
        "import matplotlib.pyplot as plt\n",
        "\n",
        "data = np.random.normal(loc=0, scale=1, size=1000)\n",
        "\n",
        "# Introduce 50 random missing values\n",
        "missing_indices = np.random.choice(data.size, size=50, replace=False)\n",
        "data[missing_indices] = np.nan\n",
        "\n",
        "plt.hist(data, bins=20, alpha=0.5, label='Before Imputation')\n",
        "plt.xlabel('Value')\n",
        "plt.ylabel('Frequency')\n",
        "plt.title('Histogram Before Imputation')\n",
        "plt.legend()\n",
        "plt.show()\n",
        "\n",
        "data_mean = np.nanmean(data)\n",
        "data[np.isnan(data)] = data_mean\n",
        "plt.hist(data, bins=20, alpha=0.5, label='After Imputation')\n",
        "plt.xlabel('Value')\n",
        "plt.ylabel('Frequency')\n",
        "plt.title('Histogram After Imputation')\n",
        "plt.legend()\n",
        "plt.show()"
      ],
      "metadata": {
        "colab": {
          "base_uri": "https://localhost:8080/",
          "height": 927
        },
        "id": "t2hl9ivlGEb-",
        "outputId": "979a8ab3-62b4-46ff-aab5-aad3b082f59e"
      },
      "execution_count": 10,
      "outputs": [
        {
          "output_type": "display_data",
          "data": {
            "text/plain": [
              "<Figure size 640x480 with 1 Axes>"
            ],
            "image/png": "[encoded data removed]"
          },
          "metadata": {}
        },
        {
          "output_type": "display_data",
          "data": {
            "text/plain": [
              "<Figure size 640x480 with 1 Axes>"
            ],
            "image/png": "[encoded data removed]"
          },
          "metadata": {}
        }
      ]
    },
    {
      "cell_type": "code",
      "source": [
        "# Question 9: Implement Min-Max scaling on the following list of numbers [2, 5, 10, 15, 20] using sklearn.preprocessing.MinMaxScaler. Print the scaled array.\n",
        "\n",
        "from sklearn.preprocessing import MinMaxScaler\n",
        "import numpy as np\n",
        "\n",
        "data = np.array([2, 5, 10, 15, 20])\n",
        "\n",
        "scaler = MinMaxScaler()\n",
        "scaled_data = scaler.fit_transform(data.reshape(-1, 1))\n",
        "\n",
        "print(\"Scaled array:\")\n",
        "print(scaled_data)\n",
        "\n",
        "\n",
        "\n"
      ],
      "metadata": {
        "colab": {
          "base_uri": "https://localhost:8080/"
        },
        "id": "JcS7N9UnHveo",
        "outputId": "fd48e170-fb5e-4eff-b973-5081893d4d2d"
      },
      "execution_count": 11,
      "outputs": [
        {
          "output_type": "stream",
          "name": "stdout",
          "text": [
            "Scaled array:\n",
            "[[0.        ]\n",
            " [0.16666667]\n",
            " [0.44444444]\n",
            " [0.72222222]\n",
            " [1.        ]]\n"
          ]
        }
      ]
    },
    {
      "cell_type": "markdown",
      "source": [
        " Question 10: You are working as a data scientist for a retail company. You receive a customer transaction dataset that contains:\n",
        "● Missing ages,\n",
        "\n",
        "● Outliers in transaction amount,\n",
        "\n",
        "● A highly imbalanced target (fraud vs. non-fraud),\n",
        "\n",
        "● Categorical variables like payment method.\n",
        "\n",
        "Explain the step-by-step data preparation plan you’d follow before training a machine learning\n",
        "model.\n",
        "\n",
        " Include how you’d address missing data, outliers, imbalance, and encoding.\n",
        "\n",
        "\n",
        "Ans>\n",
        "1. Understanding the problem:\n",
        "\n",
        "* defining business objectives(fraud detection cost)\n",
        "* understanding data leakage features\n",
        "\n",
        "2. collect and audit data:\n",
        "* checking duplicates, inconsistent formats, wrong units.\n",
        "* can be split in a stratified split by fraud/non-fraud.\n",
        "* checking missing values, outliers, imbalance and encoding.\n",
        "\n",
        "Missing ages:\n",
        "* can put imputed median(e.g. by payment method).\n",
        "* can put in bin ages into ranges(<25, 25-30)\n",
        "\n",
        "Outliers in transaction amount:\n",
        "* Transaction amounts are often heavy tailed. hence, can apply log transformation.\n",
        "* create contextual features( amount relative to merchant\"s median, customer's typical spend.)\n",
        "\n",
        "Encoding: * can use one-hot encoding for few categorical variables.\n",
        "* or frequency encoding( to mention counts of categoricay occurence.)\n",
        "* target encoding with K-fold: means fraud rate per category\n",
        "\n",
        "addressing class imbalance( fraud<< non-fraud)\n",
        "* resampling the oversample fraud cases ( through SMOTE)\n",
        "* or unersample the fraud cases to reduce imbalance.\n",
        "can use threshold tuning to set a threshold that optimzes the recall, precision, or business cost.\n",
        "\n",
        "3. feature scaling/Transformation if needed\n",
        "4. handle class imbalance( if classified)\n",
        "5. feature engineering\n",
        "* reducing dimensionality, using domain knowledge, createing new variables from raw features(ratios, interaction)\n",
        "6.validation and iteration\n",
        "* train baseline models\n",
        "* evaluate with proper metrics( on validation sets).\n",
        "* refine the preprocessing if perfromance shows any stability issues.\n"
      ],
      "metadata": {
        "id": "x9g4BFdnIxX-"
      }
    }
  ]
}